{
 "cells": [
  {
   "cell_type": "code",
   "execution_count": 1,
   "metadata": {},
   "outputs": [],
   "source": [
    "#!/usr/bin/env python3\n",
    "# -*- coding: utf-8 -*-\n",
    "\n",
    "\"\"\"\n",
    "Filtrage 3D\n",
    "\"\"\"\n",
    "\n",
    "DataFolder=\"C:/Users/Julie_000/Desktop/Stage/Stage_l3\"\n",
    "#DataFolder=\"E:/Clément/Julie/Stage_L3\""
   ]
  },
  {
   "cell_type": "markdown",
   "metadata": {},
   "source": [
    "# Importations des librairies"
   ]
  },
  {
   "cell_type": "code",
   "execution_count": 2,
   "metadata": {},
   "outputs": [],
   "source": [
    "from mat4py import loadmat #pour charger des .mat\n",
    "import matplotlib\n",
    "import matplotlib.pyplot as plt # pour tracer les figures\n",
    "import os # pour modifier le dossier de travail\n",
    "import numpy as np \n",
    "from pathlib import Path # Pour rendre les Path compatibles entre Mac et Windows\n",
    "from matplotlib import rc #Les trois prochaines lignes pour que Ã§a ressemble Ã  latex\n",
    "rc('font', size=16)\n",
    "rc('text', usetex=True)\n",
    "import scipy as sc\n",
    "import matplotlib.cm as cm #colormaps\n",
    "from matplotlib.colors import Normalize #Pour l'utilisation des couleurs dans quiver\n",
    "from matplotlib.ticker import MaxNLocator #pour les courbes de niveau\n",
    "from scipy.ndimage import gaussian_filter #Filtrage gaussien\n",
    "\n",
    "from scipy.linalg import pinv as scpinv\n",
    "from numpy.linalg import pinv as nppinv\n",
    "\n",
    "import fonctions_projet_divergence as fpd#pour les données\n",
    "\n",
    "colormap2=cm.PiYG#colormap\n",
    "\n",
    "from mpl_toolkits.mplot3d import Axes3D#plot3D"
   ]
  },
  {
   "cell_type": "markdown",
   "metadata": {},
   "source": [
    "# Chargement des données\n",
    "## Choix des variables"
   ]
  },
  {
   "cell_type": "code",
   "execution_count": 3,
   "metadata": {},
   "outputs": [],
   "source": [
    "prof=15 # Choisi sur quelle profondeur d'eau travailler (5, 10 ou 15 mm)\n",
    "m=5"
   ]
  },
  {
   "cell_type": "markdown",
   "metadata": {},
   "source": [
    "## Constitution des tableaux\n",
    "### Données brutes"
   ]
  },
  {
   "cell_type": "code",
   "execution_count": 4,
   "metadata": {},
   "outputs": [
    {
     "name": "stdout",
     "output_type": "stream",
     "text": [
      "(49, 60, 60) (49, 60, 60) (49, 60, 60) (49, 60, 60) (49,)\n",
      "(49, 59)\n",
      "(49, 59, 59)\n"
     ]
    }
   ],
   "source": [
    "os.chdir(Path(DataFolder)) # se place dans le dossier où est rangée la manip\n",
    "manips=loadmat('PIVnagseul.mat') # Charge les données dans la variable manip\n",
    "\n",
    "piv=fpd.PIV(prof,manips)#données pour la profondeur\n",
    "\n",
    "P=fpd.nb_plan(prof)#nombre de plan dans la profondeur choisie\n",
    "\n",
    "u,v,x,y,z=fpd.donnees2(P,piv)\n",
    "print(np.shape(u),np.shape(v),np.shape(x),np.shape(y),np.shape(z))\n",
    "\n",
    "#tableau des z:\n",
    "z=np.reshape(z,(P,1))\n",
    "z_2D=np.hstack((z,z))\n",
    "for i in range(57):\n",
    "    z_2D=np.hstack((z_2D,z))\n",
    "print(np.shape(z_2D))\n",
    "\n",
    "z_3D=np.hstack((z_2D,z_2D))\n",
    "for i in range(57):\n",
    "    z_3D=np.hstack((z_3D,z_2D))\n",
    "z_3D=np.reshape(z_3D,(P,59,59))\n",
    "print(np.shape(z_3D))"
   ]
  },
  {
   "cell_type": "markdown",
   "metadata": {},
   "source": [
    "### Divergence"
   ]
  },
  {
   "cell_type": "code",
   "execution_count": 5,
   "metadata": {},
   "outputs": [
    {
     "name": "stdout",
     "output_type": "stream",
     "text": [
      "(49, 59, 59)\n"
     ]
    }
   ],
   "source": [
    "div_2D=np.zeros((P,59,59))\n",
    "dx=np.zeros((P,59,59))\n",
    "dy=np.zeros((P,59,59))\n",
    "\n",
    "for plan in range(P):\n",
    "    div_2D[plan],dx[plan],dy[plan]=fpd.divergence2D_gauss(u[plan],v[plan],x[plan],y[plan],1)\n",
    "    \n",
    "print(np.shape(div_2D))"
   ]
  },
  {
   "cell_type": "markdown",
   "metadata": {},
   "source": [
    "### vz"
   ]
  },
  {
   "cell_type": "code",
   "execution_count": 6,
   "metadata": {},
   "outputs": [
    {
     "name": "stdout",
     "output_type": "stream",
     "text": [
      "(49, 59, 59)\n"
     ]
    }
   ],
   "source": [
    "vz=fpd.methode_Galerkine(u,v,x,y,z,P,m,prof)\n",
    "print(np.shape(vz))"
   ]
  }
 ],
 "metadata": {
  "kernelspec": {
   "display_name": "Python 3",
   "language": "python",
   "name": "python3"
  },
  "language_info": {
   "codemirror_mode": {
    "name": "ipython",
    "version": 3
   },
   "file_extension": ".py",
   "mimetype": "text/x-python",
   "name": "python",
   "nbconvert_exporter": "python",
   "pygments_lexer": "ipython3",
   "version": "3.7.6"
  }
 },
 "nbformat": 4,
 "nbformat_minor": 4
}
