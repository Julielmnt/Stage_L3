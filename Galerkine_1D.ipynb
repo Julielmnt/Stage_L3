{
 "cells": [
  {
   "cell_type": "code",
   "execution_count": 1,
   "metadata": {},
   "outputs": [],
   "source": [
    "#!/usr/bin/env python3\n",
    "# -*- coding: utf-8 -*-\n",
    "\n",
    "\"\"\"\n",
    "Méthode Galerkine point par point\n",
    "\"\"\"\n",
    "\n",
    "DataFolder=\"C:/Users/Julie_000/Desktop/Stage/Stage_l3\"\n",
    "#DataFolder=\"E:/Clément/Julie/Stage_L3\""
   ]
  },
  {
   "cell_type": "markdown",
   "metadata": {},
   "source": [
    "# Importations des librairies"
   ]
  },
  {
   "cell_type": "code",
   "execution_count": 2,
   "metadata": {},
   "outputs": [],
   "source": [
    "from mat4py import loadmat #pour charger des .mat\n",
    "import matplotlib\n",
    "import matplotlib.pyplot as plt # pour tracer les figures\n",
    "import os # pour modifier le dossier de travail\n",
    "import numpy as np \n",
    "from pathlib import Path # Pour rendre les Path compatibles entre Mac et Windows\n",
    "from matplotlib import rc #Les trois prochaines lignes pour que Ã§a ressemble Ã  latex\n",
    "rc('font', size=16)\n",
    "rc('text', usetex=True)\n",
    "import scipy as sc\n",
    "import matplotlib.cm as cm #colormaps\n",
    "from matplotlib.colors import Normalize #Pour l'utilisation des couleurs dans quiver\n",
    "from matplotlib.ticker import MaxNLocator #pour les courbes de niveau\n",
    "from scipy.ndimage import gaussian_filter #Filtrage gaussien\n",
    "\n",
    "from scipy.linalg import pinv as scpinv\n",
    "from numpy.linalg import pinv as nppinv\n",
    "\n",
    "import fonctions_projet_divergence as fpd #pour les données\n",
    "\n",
    "colormap2=cm.PiYG#colormap\n",
    "\n",
    "from mpl_toolkits.mplot3d import Axes3D#plot3D\n",
    "import matplotlib.patches as mpatches #pour le nageur\n"
   ]
  },
  {
   "cell_type": "code",
   "execution_count": 3,
   "metadata": {},
   "outputs": [],
   "source": [
    "def plot_champ_vitesse(u,v,x,y,title):\n",
    "    \"Fonction de tracé du champ de vitesse\"\n",
    "    #norme\n",
    "    f=2\n",
    "    u1=np.copy(u)[::f,::f]\n",
    "    v1=np.copy(v)[::f,::f]\n",
    "    x1=np.copy(x)[::f,::f]\n",
    "    y1=np.copy(y)[::f,::f]\n",
    "    \n",
    "    velocity=np.sqrt(u1**2+v1**2)\n",
    "    velmax=np.mean(velocity)+3*np.std(velocity)#norme maximale représentée sur la colormap borne sup arbitraire\n",
    "    colors = np.copy(velocity)\n",
    "    colors[velocity>velmax]=velmax\n",
    "    norm = Normalize()\n",
    "    norm.autoscale(colors)\n",
    "\n",
    "    #plot   \n",
    "    fig,ax=plt.subplots(num=title, figsize=figsize)\n",
    "    im=ax.quiver(x1,y1,u1/velocity,v1/velocity,colors,headwidth=8)\n",
    "    cbar=plt.colorbar(im, ax=ax)  #pour la barre de couleur\n",
    "    cbar.set_label(r'vitesse en $mm\\cdot s^{-1}$',fontsize=fontsize)\n",
    "    circle = mpatches.Circle((0,0), 6, color='gainsboro')#patch\n",
    "    ax.add_patch(circle)\n",
    "    \n",
    "    fig.suptitle(title,fontsize=18)\n",
    "    plt.xlabel(r\"$x (mm)$\",fontsize=fontsize)\n",
    "    plt.ylabel(r\"$y (mm)$\",fontsize=fontsize)\n",
    "    plt.show()\n",
    "    \n",
    "def plot_divergence(div,dx,dy,title):\n",
    "    \"Tracé des divergences\"\n",
    "    #norme\n",
    "    vmax,vmin=np.max(div),np.min(div)\n",
    "    norm=Normalize(vmin=vmin, vmax=vmax)\n",
    "    levels = MaxNLocator(nbins=25).tick_values(vmin,vmax)\n",
    "    \n",
    "    fig, l0 = plt.subplots(num=title,figsize=figsize)\n",
    "    im0 = l0.contourf(dx,dy,div,levels=levels, cmap=colormap2,norm=norm)\n",
    "    l0.set_xlabel(r\"$x (mm)$\",fontsize=fontsize)\n",
    "    l0.set_ylabel(r\"$y (mm)$\",fontsize=fontsize)\n",
    "    circle = mpatches.Circle((0,0), 6, color='gainsboro')#patch\n",
    "    l0.add_patch(circle)\n",
    "    cbar=plt.colorbar(im0,ax=l0)\n",
    "    cbar.set_label(r'$s^{-1}$',fontsize=fontsize)\n",
    "   \n",
    "    fig.suptitle(title,fontsize=20)\n",
    "    plt.show()"
   ]
  },
  {
   "cell_type": "markdown",
   "metadata": {},
   "source": [
    "# Chargement des données\n",
    "## Choix des variables"
   ]
  },
  {
   "cell_type": "code",
   "execution_count": 4,
   "metadata": {},
   "outputs": [],
   "source": [
    "prof=15 # Choisi sur quelle profondeur d'eau travailler (5, 10 ou 15 mm)\n",
    "m=5"
   ]
  },
  {
   "cell_type": "markdown",
   "metadata": {},
   "source": [
    "## Constitution des tableaux\n",
    "### Données brutes"
   ]
  },
  {
   "cell_type": "code",
   "execution_count": 5,
   "metadata": {},
   "outputs": [
    {
     "name": "stdout",
     "output_type": "stream",
     "text": [
      "(49, 60, 60) (49, 60, 60) (49, 60, 60) (49, 60, 60) (49,)\n",
      "(49, 59)\n",
      "(49, 59, 59)\n"
     ]
    }
   ],
   "source": [
    "os.chdir(Path(DataFolder)) # se place dans le dossier où est rangée la manip\n",
    "manips=loadmat('PIVnagseul.mat') # Charge les données dans la variable manip\n",
    "\n",
    "piv=fpd.PIV(prof,manips)#données pour la profondeur\n",
    "\n",
    "P=fpd.nb_plan(prof)#nombre de plan dans la profondeur choisie\n",
    "\n",
    "u,v,x,y,z=fpd.donnees2(P,piv)\n",
    "print(np.shape(u),np.shape(v),np.shape(x),np.shape(y),np.shape(z))\n",
    "\n",
    "#tableau des z:\n",
    "z=np.reshape(z,(P,1))\n",
    "z_2D=np.hstack((z,z))\n",
    "for i in range(57):\n",
    "    z_2D=np.hstack((z_2D,z))\n",
    "print(np.shape(z_2D))\n",
    "\n",
    "z_3D=np.hstack((z_2D,z_2D))\n",
    "for i in range(57):\n",
    "    z_3D=np.hstack((z_3D,z_2D))\n",
    "z_3D=np.reshape(z_3D,(P,59,59))\n",
    "print(np.shape(z_3D))"
   ]
  },
  {
   "cell_type": "markdown",
   "metadata": {},
   "source": [
    "### Divergence"
   ]
  },
  {
   "cell_type": "code",
   "execution_count": 6,
   "metadata": {},
   "outputs": [
    {
     "name": "stdout",
     "output_type": "stream",
     "text": [
      "(49, 59, 59)\n"
     ]
    }
   ],
   "source": [
    "div_2D=np.zeros((P,59,59))\n",
    "dx=np.zeros((P,59,59))\n",
    "dy=np.zeros((P,59,59))\n",
    "\n",
    "for plan in range(P):\n",
    "    div_2D[plan],dx[plan],dy[plan]=fpd.divergence2D_gauss(u[plan],v[plan],x[plan],y[plan],1)\n",
    "    \n",
    "print(np.shape(div_2D))"
   ]
  },
  {
   "cell_type": "markdown",
   "metadata": {},
   "source": [
    "# Manque de données"
   ]
  },
  {
   "cell_type": "code",
   "execution_count": 7,
   "metadata": {},
   "outputs": [
    {
     "name": "stdout",
     "output_type": "stream",
     "text": [
      "176400 (49, 60, 60)\n",
      "36706 36706 10638\n",
      "0.2 % des valeurs sont égales à 0\n"
     ]
    }
   ],
   "source": [
    "print(np.size(u),np.shape(u))\n",
    "nu=np.sum(u==0)\n",
    "nv=np.sum(v==0)\n",
    "ndiv=np.sum(div_2D==0)\n",
    "print(nu,nv,ndiv)\n",
    "print('{} % des valeurs sont égales à 0'.format(np.around(nu/np.size(u),decimals=1)))"
   ]
  },
  {
   "cell_type": "code",
   "execution_count": 19,
   "metadata": {},
   "outputs": [
    {
     "name": "stdout",
     "output_type": "stream",
     "text": [
      "77970 170569\n"
     ]
    }
   ],
   "source": [
    "v_nan=np.where(v==0,float('NaN'),v)\n",
    "u_nan=np.where(u==0,float('NaN'),u)\n",
    "\n",
    "div_2D_nan=np.zeros((P,59,59))\n",
    "\n",
    "for plan in range(P):\n",
    "    div_2D_nan[plan]=fpd.divergence2D_gauss(u_nan[plan],v_nan[plan],x[plan],y[plan],1)[0]\n",
    "\n",
    "print(np.sum(np.isnan(div_2D_nan)),np.size(div_2D_nan))\n",
    "div_2D_nan0=np.where(np.isnan(div_2D_nan),4,div_2D_nan)\n",
    "#print(div_2D_nan0)"
   ]
  },
  {
   "cell_type": "code",
   "execution_count": 20,
   "metadata": {},
   "outputs": [
    {
     "data": {
      "image/png": "[encoded data removed]",
      "text/plain": [
       "<Figure size 576x432 with 2 Axes>"
      ]
     },
     "metadata": {
      "needs_background": "light"
     },
     "output_type": "display_data"
    }
   ],
   "source": [
    "plan=2\n",
    "fontsize=15\n",
    "figsize=(8,6)\n",
    "plot_divergence(div_2D_nan0[plan],dx[plan],dy[plan],r'Divergence bidimensionnelle pour $z = {} mm$'.format(np.around(-z[plan],decimals=1)))"
   ]
  },
  {
   "cell_type": "code",
   "execution_count": 10,
   "metadata": {},
   "outputs": [
    {
     "name": "stdout",
     "output_type": "stream",
     "text": [
      "(49, 59, 59)\n",
      "[       nan        nan        nan        nan        nan 0.01602563]\n",
      "5\n"
     ]
    }
   ],
   "source": [
    "print(np.shape(div_2D))\n",
    "c=np.shape(div_2D)[1]\n",
    "print(div_2D_nan[:6,0,0])\n",
    "print(np.sum(np.isnan(div_2D_nan[:6,0,0])))"
   ]
  },
  {
   "cell_type": "code",
   "execution_count": 11,
   "metadata": {},
   "outputs": [],
   "source": [
    "count=0\n",
    "for i in range(c):\n",
    "    for j in range(c):\n",
    "        if np.sum(np.isnan(div_2D_nan[:,j,i]))>20:\n",
    "            count+=1"
   ]
  },
  {
   "cell_type": "code",
   "execution_count": 12,
   "metadata": {},
   "outputs": [
    {
     "name": "stdout",
     "output_type": "stream",
     "text": [
      "0.5357655846021259\n"
     ]
    }
   ],
   "source": [
    "print(count/(c*c))"
   ]
  },
  {
   "cell_type": "code",
   "execution_count": 13,
   "metadata": {},
   "outputs": [],
   "source": [
    "count=0\n",
    "for i in range(c):\n",
    "    for j in range(c):\n",
    "        if np.sum(np.isnan(v_nan[:,j,i]))>20:\n",
    "            count+=1"
   ]
  },
  {
   "cell_type": "code",
   "execution_count": 14,
   "metadata": {},
   "outputs": [
    {
     "name": "stdout",
     "output_type": "stream",
     "text": [
      "0.1373168629704108\n"
     ]
    }
   ],
   "source": [
    "print(count/(c*c))"
   ]
  },
  {
   "cell_type": "code",
   "execution_count": 15,
   "metadata": {},
   "outputs": [],
   "source": [
    "count=0\n",
    "for i in range(c):\n",
    "    for j in range(c):\n",
    "        if np.sum(div_2D[:,j,i]==0)>10:\n",
    "            count+=1"
   ]
  },
  {
   "cell_type": "code",
   "execution_count": 16,
   "metadata": {},
   "outputs": [
    {
     "name": "stdout",
     "output_type": "stream",
     "text": [
      "0.06434932490663603\n"
     ]
    }
   ],
   "source": [
    "print(count/(c*c))"
   ]
  },
  {
   "cell_type": "markdown",
   "metadata": {},
   "source": [
    "# Moyennage"
   ]
  },
  {
   "cell_type": "code",
   "execution_count": null,
   "metadata": {},
   "outputs": [],
   "source": [
    "Mean_V = np.zeros([len(x_bins), len(y_bins)])\n",
    "\n",
    "for i, x_bin in enumerate(x_bins[:-1]):\n",
    "    bin_x = (x > x_bins[i]) & (x <= x_bins[i+1])\n",
    "    for j, y_bin in enumerate(y_bins[:-1]):\n",
    "        bin_xy = (y[bin_x] > y_bins[j]) & (y[bin_x] <= y_bins[j+1])\n",
    "        if (sum(x > 0 for x in bin_xy) > 0) :\n",
    "            Mean_V[i,j]=np.nanmean(V[bin_x][bin_xy])\n",
    "        else:\n",
    "            Mean_V[i,j]=np.nan"
   ]
  },
  {
   "cell_type": "markdown",
   "metadata": {},
   "source": [
    "# Galerkine 1D"
   ]
  },
  {
   "cell_type": "code",
   "execution_count": 17,
   "metadata": {},
   "outputs": [],
   "source": [
    "\n",
    "\n",
    "\n",
    "\n",
    "\n",
    "def methode_Galerkine(u,v,x,y,z,P,m,h):\n",
    "    \"Applique la méthode Galerkine1D\"\n",
    "    #divergence bidimensionelle\n",
    "    div_2D=np.zeros((P,59,59))\n",
    "    dx=np.zeros((P,59,59))\n",
    "    dy=np.zeros((P,59,59))\n",
    "    for plan in range(P):\n",
    "        div_2D[plan],dx[plan],dy[plan]=fpd.divergence2D_gauss(u[plan],v[plan],x[plan],y[plan],2)\n",
    "    #Matrice pinv\n",
    "    pinv=nppinv(np.transpose(np.array([n*np.pi/h*np.cos(n*np.pi/h*z) for n in range(1,m+1)])))\n",
    "    #Calcul des coefficients\n",
    "    div_2D=np.reshape(div_2D,(P,59*59))\n",
    "    a=np.matmul(pinv,div_2D)\n",
    "    #calcul de vz\n",
    "    sin=np.transpose(np.array([np.sin(m*np.pi*z/h) for m in range(1,m+1)]))\n",
    "    vz=np.matmul(sin,a)\n",
    "    vz=np.reshape(vz,(P,59,59))\n",
    "    return(vz)\n",
    "\n"
   ]
  },
  {
   "cell_type": "code",
   "execution_count": 18,
   "metadata": {},
   "outputs": [],
   "source": [
    "def deriv(y,x,axis):\n",
    "    \"\"\"Dérive un tableau 2D y par rapport à x suivant un axe donné\"\"\"\n",
    "    if axis==0:\n",
    "        return((y[1:,:]-y[:-1,:])/(x[1:,:]-x[:-1,:]))#Donc là le tableau est de taille (n-1,n)\n",
    "    if axis==1:\n",
    "        return((y[:,1:]-y[:,:-1])/(x[:,1:]-x[:,:-1]))#Donc là le tableau est de taille (n,n-1)\n",
    "    return(\"deriv ne fonctionne que pour des tableaux 2D\")\n",
    "\n",
    "def divergence2D_gauss(u,v,x,y,sigma):\n",
    "    \"Applique le programme de divergence2D avec filtre gaussien sur la vitesse\"\n",
    "\n",
    "    #Filtrage\n",
    "    u_filtre=gaussian_filter(u,sigma)\n",
    "    v_filtre=gaussian_filter(v,sigma)\n",
    "    #dérivation\n",
    "    du_filtre,dv_filtre=deriv(u_filtre,x,1),deriv(v_filtre,y,0)\n",
    "    dx,dy=abcisse(x,1),abcisse(y,0)\n",
    "    #shape\n",
    "    du_filtre,dv_filtre=good_shape(du_filtre),good_shape(dv_filtre)\n",
    "    dx,dy=good_shape(dx),good_shape(dy)\n",
    "    #somme\n",
    "    div = somme(du_filtre,dv_filtre)\n",
    "    #masque\n",
    "    div_masque=masque(div)\n",
    "    return(div_masque,dx,dy)\n",
    "\n",
    "def methode_Galerkine(u,v,x,y,z,P,m,h):\n",
    "    \"Applique la méthode Galerkine\"\n",
    "    #divergence bidimensionelle\n",
    "    div_2D=np.zeros((P,59,59))\n",
    "    dx=np.zeros((P,59,59))\n",
    "    dy=np.zeros((P,59,59))\n",
    "    for plan in range(P):\n",
    "        div_2D[plan],dx[plan],dy[plan]=fpd.divergence2D_gauss(u[plan],v[plan],x[plan],y[plan],2)\n",
    "    #Matrice pinv\n",
    "    pinv=nppinv(np.transpose(np.array([n*np.pi/h*np.cos(n*np.pi/h*z) for n in range(1,m+1)])))\n",
    "    #Calcul des coefficients\n",
    "    div_2D=np.reshape(div_2D,(P,59*59))\n",
    "    a=np.matmul(pinv,div_2D)\n",
    "    #calcul de vz\n",
    "    sin=np.transpose(np.array([np.sin(m*np.pi*z/h) for m in range(1,m+1)]))\n",
    "    vz=np.matmul(sin,a)\n",
    "    vz=np.reshape(vz,(P,59,59))\n",
    "    return(vz)"
   ]
  }
 ],
 "metadata": {
  "kernelspec": {
   "display_name": "Python 3",
   "language": "python",
   "name": "python3"
  },
  "language_info": {
   "codemirror_mode": {
    "name": "ipython",
    "version": 3
   },
   "file_extension": ".py",
   "mimetype": "text/x-python",
   "name": "python",
   "nbconvert_exporter": "python",
   "pygments_lexer": "ipython3",
   "version": "3.7.6"
  }
 },
 "nbformat": 4,
 "nbformat_minor": 4
}
