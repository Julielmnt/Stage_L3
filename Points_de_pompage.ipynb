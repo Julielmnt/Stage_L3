{
 "cells": [
  {
   "cell_type": "code",
   "execution_count": 1,
   "metadata": {},
   "outputs": [],
   "source": [
    "#!/usr/bin/env python3\n",
    "# -*- coding: utf-8 -*-\n",
    "\n",
    "\"\"\"\n",
    "Application de la méthode de Galerkine aux données\n",
    "\"\"\"\n",
    "\n",
    "DataFolder=\"C:/Users/Julie_000/Desktop/Stage/Stage_l3\"\n",
    "#DataFolder=\"E:/Clément/Julie/Stage_L3\""
   ]
  },
  {
   "cell_type": "markdown",
   "metadata": {},
   "source": [
    "# Importations des librairies"
   ]
  },
  {
   "cell_type": "code",
   "execution_count": 2,
   "metadata": {},
   "outputs": [],
   "source": [
    "from mat4py import loadmat #pour charger des .mat\n",
    "import matplotlib\n",
    "import matplotlib.pyplot as plt # pour tracer les figures\n",
    "import os # pour modifier le dossier de travail\n",
    "import numpy as np \n",
    "from pathlib import Path # Pour rendre les Path compatibles entre Mac et Windows\n",
    "from matplotlib import rc #Les trois prochaines lignes pour que Ã§a ressemble Ã  latex\n",
    "rc('font', size=16)\n",
    "rc('text', usetex=True)\n",
    "import scipy as sc\n",
    "import matplotlib.cm as cm #colormaps\n",
    "from matplotlib.colors import Normalize #Pour l'utilisation des couleurs dans quiver\n",
    "from matplotlib.ticker import MaxNLocator #pour les courbes de niveau\n",
    "from scipy.ndimage import gaussian_filter #Filtrage gaussien\n",
    "\n",
    "from scipy.linalg import pinv as scpinv\n",
    "from numpy.linalg import pinv as nppinv\n",
    "\n",
    "import fonctions_projet_divergence as fpd#pour les données\n",
    "\n",
    "colormap2=cm.PiYG#colormap\n",
    "\n",
    "from mpl_toolkits.mplot3d import Axes3D#plot3D"
   ]
  },
  {
   "cell_type": "markdown",
   "metadata": {},
   "source": [
    "# Chargement des données\n",
    "## Choix des variables"
   ]
  },
  {
   "cell_type": "code",
   "execution_count": 3,
   "metadata": {},
   "outputs": [],
   "source": [
    "prof=15 # Choisi sur quelle profondeur d'eau travailler (5, 10 ou 15 mm)\n",
    "m=5"
   ]
  },
  {
   "cell_type": "markdown",
   "metadata": {},
   "source": [
    "## Constitution des tableaux\n",
    "### Données brutes"
   ]
  },
  {
   "cell_type": "code",
   "execution_count": 4,
   "metadata": {},
   "outputs": [
    {
     "name": "stdout",
     "output_type": "stream",
     "text": [
      "(49, 60, 60) (49, 60, 60) (49, 60, 60) (49, 60, 60) (49,)\n",
      "(49, 59)\n",
      "(49, 59, 59)\n"
     ]
    }
   ],
   "source": [
    "os.chdir(Path(DataFolder)) # se place dans le dossier où est rangée la manip\n",
    "manips=loadmat('PIVnagseul.mat') # Charge les données dans la variable manip\n",
    "\n",
    "piv=fpd.PIV(prof,manips)#données pour la profondeur\n",
    "\n",
    "P=fpd.nb_plan(prof)#nombre de plan dans la profondeur choisie\n",
    "\n",
    "u,v,x,y,z=fpd.donnees2(P,piv)\n",
    "print(np.shape(u),np.shape(v),np.shape(x),np.shape(y),np.shape(z))\n",
    "\n",
    "#tableau des z:\n",
    "z=np.reshape(z,(P,1))\n",
    "z_2D=np.hstack((z,z))\n",
    "for i in range(57):\n",
    "    z_2D=np.hstack((z_2D,z))\n",
    "print(np.shape(z_2D))\n",
    "\n",
    "z_3D=np.hstack((z_2D,z_2D))\n",
    "for i in range(57):\n",
    "    z_3D=np.hstack((z_3D,z_2D))\n",
    "z_3D=np.reshape(z_3D,(P,59,59))\n",
    "print(np.shape(z_3D))"
   ]
  },
  {
   "cell_type": "markdown",
   "metadata": {},
   "source": [
    "### Divergence"
   ]
  },
  {
   "cell_type": "code",
   "execution_count": 5,
   "metadata": {},
   "outputs": [
    {
     "name": "stdout",
     "output_type": "stream",
     "text": [
      "(49, 59, 59)\n"
     ]
    }
   ],
   "source": [
    "div_2D=np.zeros((P,59,59))\n",
    "dx=np.zeros((P,59,59))\n",
    "dy=np.zeros((P,59,59))\n",
    "\n",
    "for plan in range(P):\n",
    "    div_2D[plan],dx[plan],dy[plan]=fpd.divergence2D_gauss(u[plan],v[plan],x[plan],y[plan],1)\n",
    "    \n",
    "print(np.shape(div_2D))"
   ]
  },
  {
   "cell_type": "markdown",
   "metadata": {},
   "source": [
    "### vz"
   ]
  },
  {
   "cell_type": "code",
   "execution_count": 6,
   "metadata": {},
   "outputs": [
    {
     "name": "stdout",
     "output_type": "stream",
     "text": [
      "(49, 59, 59)\n"
     ]
    }
   ],
   "source": [
    "vz=fpd.methode_Galerkine(u,v,x,y,z,P,m,prof)\n",
    "print(np.shape(vz))"
   ]
  },
  {
   "cell_type": "markdown",
   "metadata": {},
   "source": [
    "# Test de la divergence 3D\n",
    "## Dérivation de vz"
   ]
  },
  {
   "cell_type": "code",
   "execution_count": 7,
   "metadata": {},
   "outputs": [],
   "source": [
    "def deriv3D(vz,z,axis):\n",
    "    \"\"\"Dérive un tableau 3D y par rapport à x suivant un axe donné\"\"\"\n",
    "    if vz.shape!=z.shape:\n",
    "        z_good_shape=z[:-1,:,:]\n",
    "    else:\n",
    "        z_good_shape=z\n",
    "    if axis==0:\n",
    "        dvz=(vz[1:,:,:]-vz[:-1,:,:])/(z_good_shape[1:,:,:]-z_good_shape[:-1,:,:])#Donc là le tableau est de taille (P-1,n,n)\n",
    "        return(dvz)"
   ]
  },
  {
   "cell_type": "code",
   "execution_count": 8,
   "metadata": {},
   "outputs": [
    {
     "name": "stdout",
     "output_type": "stream",
     "text": [
      "(48, 59, 59)\n",
      "3.3010507364265287\n"
     ]
    }
   ],
   "source": [
    "dvz1=deriv3D(vz,z_3D,0)\n",
    "print(np.shape(dvz1))\n",
    "print(np.max(div_2D))"
   ]
  },
  {
   "cell_type": "markdown",
   "metadata": {},
   "source": [
    "## Avec la méthode Galerkine\n",
    "\n",
    "\\partial_{z}v_{z}= -Ma"
   ]
  },
  {
   "cell_type": "code",
   "execution_count": 9,
   "metadata": {},
   "outputs": [],
   "source": [
    "def dvz_methode_Galerkine(u,v,x,y,z,P,m,h):\n",
    "    \"Applique la méthode Galerkine\"\n",
    "    #divergence bidimensionelle\n",
    "    div_2D=np.zeros((P,59,59))\n",
    "    dx=np.zeros((P,59,59))\n",
    "    dy=np.zeros((P,59,59))\n",
    "    for plan in range(P):\n",
    "        div_2D[plan],dx[plan],dy[plan]=fpd.divergence2D_gauss(u[plan],v[plan],x[plan],y[plan],2)\n",
    "    #Matrice pinv\n",
    "    M=np.transpose(np.array([n*np.pi/h*np.cos(n*np.pi/h*z) for n in range(1,m+1)]))\n",
    "    pinv=nppinv(M)\n",
    "    #Calcul des coefficients\n",
    "    div_2D=np.reshape(div_2D,(P,59*59))\n",
    "    a=np.matmul(pinv,div_2D)\n",
    "    #calcul de dvz\n",
    "    dvz=-np.matmul(M,a)\n",
    "    dvz=np.reshape(dvz,(P,59,59))\n",
    "    return(dvz)"
   ]
  },
  {
   "cell_type": "code",
   "execution_count": 10,
   "metadata": {},
   "outputs": [],
   "source": [
    "dvz=dvz_methode_Galerkine(u,v,x,y,z,P,m,prof)"
   ]
  },
  {
   "cell_type": "markdown",
   "metadata": {},
   "source": [
    "## Remise des tableaux à la bonne shape"
   ]
  },
  {
   "cell_type": "code",
   "execution_count": 11,
   "metadata": {
    "scrolled": true
   },
   "outputs": [
    {
     "name": "stdout",
     "output_type": "stream",
     "text": [
      "(49, 59, 59) (48, 59, 59)\n",
      "2.1398461229155643\n",
      "[[[ 4.88162822e-03  8.33697306e-03  1.02285652e-02 ...  4.40448282e-02\n",
      "   -3.34025234e-03 -5.50888236e-02]\n",
      "  [ 5.65401229e-03  9.28193225e-03  1.12372917e-02 ...  4.64218769e-02\n",
      "    9.06799616e-03 -3.12764293e-02]\n",
      "  [ 6.30395705e-03  1.01048928e-02  1.20001556e-02 ...  3.87047228e-02\n",
      "    4.24379073e-03 -3.26604802e-02]\n",
      "  ...\n",
      "  [-1.63806446e-01 -1.33907705e-01 -7.97879943e-02 ...  2.37285950e-02\n",
      "    2.14444490e-02  8.95606458e-03]\n",
      "  [-2.09042266e-01 -1.42814583e-01 -7.20357353e-02 ...  2.87841858e-02\n",
      "    2.59459529e-02  8.72920843e-03]\n",
      "  [-1.00557865e-01 -8.49197575e-02 -5.72268274e-02 ...  2.41043386e-02\n",
      "    2.65941331e-02  1.16573376e-02]]\n",
      "\n",
      " [[ 4.65206323e-03  7.96628678e-03  9.84642523e-03 ...  6.27601240e-03\n",
      "    5.77075906e-03  3.16650905e-03]\n",
      "  [ 5.35004251e-03  8.81247757e-03  1.07587030e-02 ...  5.08412546e-03\n",
      "    4.51402940e-03  2.02750213e-03]\n",
      "  [ 5.87106000e-03  9.47199377e-03  1.13716104e-02 ...  4.59778639e-03\n",
      "    4.07533461e-03  1.71689470e-03]\n",
      "  ...\n",
      "  [ 2.48503302e-02  2.99383775e-02  2.87007432e-02 ... -5.79498285e-03\n",
      "   -8.10052867e-03 -1.07517421e-02]\n",
      "  [ 2.30097013e-02  2.76618446e-02  2.67225091e-02 ... -8.25885131e-03\n",
      "   -1.20044182e-02 -1.41604084e-02]\n",
      "  [ 1.26059570e-02  2.00145716e-02  2.41048923e-02 ... -1.11219947e-02\n",
      "   -1.00593944e-02 -6.09633530e-03]]\n",
      "\n",
      " [[ 4.34794570e-03  7.50705627e-03  9.61984940e-03 ... -2.33786102e-02\n",
      "   -1.58941969e-03  2.46445506e-03]\n",
      "  [ 4.94894778e-03  8.27064173e-03  1.09122071e-02 ... -1.84240187e-02\n",
      "   -1.19653984e-03  1.67460986e-03]\n",
      "  [ 5.30500938e-03  8.76345967e-03  1.17750278e-02 ... -1.27605792e-02\n",
      "   -6.34130980e-05  1.57144221e-03]\n",
      "  ...\n",
      "  [-2.52711760e-02 -3.49762261e-02 -3.61612974e-02 ... -6.94309954e-03\n",
      "   -3.12699186e-02 -1.81254662e-02]\n",
      "  [ 1.95215153e-03 -3.59634420e-03 -2.30264094e-02 ...  4.40829306e-05\n",
      "   -2.42406063e-02 -3.65665379e-02]\n",
      "  [ 3.34478509e-02  2.57909886e-02 -1.93569054e-02 ...  2.32999747e-02\n",
      "    1.65032951e-02 -3.02279379e-02]]\n",
      "\n",
      " ...\n",
      "\n",
      " [[ 2.75068628e-04  3.48821399e-04  8.84432607e-05 ...  4.22757116e-03\n",
      "    8.88469451e-05 -8.72554999e-04]\n",
      "  [ 2.15283417e-04  3.10799563e-04  1.63321326e-05 ...  3.77323944e-03\n",
      "    6.81480017e-04 -2.21549240e-04]\n",
      "  [ 1.70591628e-04  3.62604285e-04  8.86718141e-05 ...  1.87527839e-03\n",
      "    1.16714278e-03  7.28422208e-04]\n",
      "  ...\n",
      "  [-2.80193785e-03 -5.97231962e-04  1.75709838e-04 ... -5.26411120e-03\n",
      "   -4.71236782e-03 -4.23246485e-03]\n",
      "  [-4.27758775e-03 -3.79229996e-03 -2.50878900e-03 ...  1.45044015e-03\n",
      "    1.01423201e-03 -2.78127647e-03]\n",
      "  [-3.59153611e-03 -4.74180052e-03 -5.27861317e-03 ...  8.32972726e-03\n",
      "    6.36027634e-03 -3.04049334e-04]]\n",
      "\n",
      " [[ 1.48249916e-04 -1.60934382e-04 -9.44695664e-04 ...  3.50916296e-04\n",
      "   -2.24463974e-04 -1.30069937e-04]\n",
      "  [-1.73089663e-04 -1.26468341e-03 -2.31166900e-03 ...  4.28408720e-04\n",
      "    4.21655063e-05  1.14642809e-04]\n",
      "  [-5.53140062e-04 -2.60330392e-03 -4.27187125e-03 ...  4.37500868e-04\n",
      "    2.25280811e-04  2.55307903e-04]\n",
      "  ...\n",
      "  [-1.94300194e-03 -1.99269346e-03 -2.15799215e-03 ...  3.17337059e-03\n",
      "    2.73498490e-03  1.24882502e-03]\n",
      "  [-1.94701231e-03 -1.90510745e-03 -2.00957598e-03 ...  3.42436228e-03\n",
      "    2.99755057e-03  1.37977632e-03]\n",
      "  [-1.13999469e-03 -1.13152497e-03 -1.32363152e-03 ...  3.74785227e-03\n",
      "    3.41998080e-03  1.78005708e-03]]\n",
      "\n",
      " [[-3.60598504e-05  2.63174900e-03  3.51823714e-03 ... -8.09800230e-05\n",
      "   -2.15859335e-04 -1.04653095e-04]\n",
      "  [ 4.88861694e-04  2.73793615e-03  3.55852021e-03 ...  2.43628005e-04\n",
      "    1.00711723e-04  1.68066204e-04]\n",
      "  [ 1.79313073e-03  2.43220781e-03  3.07222981e-03 ...  5.07253906e-04\n",
      "    3.20149789e-04  3.21593449e-04]\n",
      "  ...\n",
      "  [ 2.52020924e-03  1.89444019e-03 -5.50009753e-04 ... -8.93971198e-04\n",
      "    2.36908804e-05 -9.89357492e-04]\n",
      "  [ 1.83004102e-03  1.66623239e-03  2.42592265e-04 ...  2.62417534e-03\n",
      "    4.07110029e-03  2.48525401e-03]\n",
      "  [-2.04737625e-04  1.23901908e-03  2.12871461e-03 ...  5.88124282e-03\n",
      "    6.10674167e-03  3.70427524e-03]]]\n"
     ]
    }
   ],
   "source": [
    "#div_3D=np.zeros(np.shape(div_2D[:-1,:,:]\n",
    "print(np.shape(div_2D),np.shape(dvz1))\n",
    "\n",
    "div_3D1=div_2D[:-1,:,:]+dvz1\n",
    "div_3D=div_2D+dvz\n",
    "\n",
    "print(np.max(div_3D))\n",
    "print(div_3D)"
   ]
  },
  {
   "cell_type": "code",
   "execution_count": 12,
   "metadata": {},
   "outputs": [
    {
     "name": "stdout",
     "output_type": "stream",
     "text": [
      "False\n"
     ]
    }
   ],
   "source": [
    "#print(div_3D)\n",
    "print(np.allclose(div_3D,np.zeros(np.shape(div_3D))))"
   ]
  },
  {
   "cell_type": "markdown",
   "metadata": {},
   "source": [
    "# Point de pompage\n",
    "## Evolution de la position en fonction de la hauteur\n",
    "### Fonction"
   ]
  },
  {
   "cell_type": "code",
   "execution_count": 13,
   "metadata": {},
   "outputs": [],
   "source": [
    "def indices_x_y_max(div,P):\n",
    "    indices=np.zeros((P,2))\n",
    "    for i in range(P):\n",
    "        indices[i] = np.unravel_index(np.argmax(div[i], axis=None), (P,59))\n",
    "    return(indices)"
   ]
  },
  {
   "cell_type": "markdown",
   "metadata": {},
   "source": [
    "### Constitution des tableaux"
   ]
  },
  {
   "cell_type": "code",
   "execution_count": 37,
   "metadata": {},
   "outputs": [
    {
     "name": "stdout",
     "output_type": "stream",
     "text": [
      "[24. 24. 24. 24. 24. 28. 20. 17. 29. 29. 29. 27. 29. 28. 27. 27. 28. 27.\n",
      " 28. 27. 26. 28. 27. 27. 27. 27. 28. 27. 27. 27. 27. 39. 27. 27. 26. 27.\n",
      " 27. 26. 26. 27. 27. 27. 26. 27. 27.  0. 27. 27. 27.]\n",
      "[[24. 28.]\n",
      " [24. 29.]\n",
      " [24. 30.]\n",
      " [24. 29.]\n",
      " [24. 29.]\n",
      " [28. 32.]\n",
      " [20. 30.]\n",
      " [17. 26.]\n",
      " [29. 33.]\n",
      " [29. 25.]\n",
      " [29. 32.]\n",
      " [27. 31.]\n",
      " [29. 33.]\n",
      " [28. 32.]\n",
      " [27. 31.]\n",
      " [27. 31.]\n",
      " [28. 32.]\n",
      " [27. 31.]\n",
      " [28. 32.]\n",
      " [27. 31.]\n",
      " [26. 29.]\n",
      " [28. 32.]\n",
      " [27. 27.]\n",
      " [27. 31.]\n",
      " [27. 27.]\n",
      " [27. 31.]\n",
      " [28. 32.]\n",
      " [27. 31.]\n",
      " [27. 31.]\n",
      " [27. 31.]\n",
      " [27. 31.]\n",
      " [39.  7.]\n",
      " [27. 31.]\n",
      " [27. 31.]\n",
      " [26. 30.]\n",
      " [27. 31.]\n",
      " [27. 31.]\n",
      " [26. 29.]\n",
      " [26. 29.]\n",
      " [27. 31.]\n",
      " [27. 31.]\n",
      " [27. 31.]\n",
      " [26. 29.]\n",
      " [27. 31.]\n",
      " [27. 31.]\n",
      " [ 0. 44.]\n",
      " [27. 21.]\n",
      " [27. 31.]\n",
      " [27. 31.]]\n"
     ]
    }
   ],
   "source": [
    "x_ind,y_ind=indices_x_y_max(div_2D,P)[:,0],indices_x_y_max(div_2D,P)[:,1]\n",
    "print(x_ind)\n",
    "print(indices_x_y_max(div_2D,P))"
   ]
  },
  {
   "cell_type": "markdown",
   "metadata": {},
   "source": [
    "### plot\n",
    "#### fonction de plot"
   ]
  },
  {
   "cell_type": "code",
   "execution_count": 38,
   "metadata": {},
   "outputs": [],
   "source": [
    "def plot_indices(indices,z,title,xlabel):\n",
    "    fig,ax=plt.subplots(num=title)\n",
    "    ax.plot(indices,z,color='blue')\n",
    "    ax.set_xlabel(xlabel)\n",
    "    ax.set_ylabel('z')\n",
    "    plt.show()"
   ]
  },
  {
   "cell_type": "markdown",
   "metadata": {},
   "source": [
    "#### Evolution en x"
   ]
  },
  {
   "cell_type": "code",
   "execution_count": 39,
   "metadata": {},
   "outputs": [
    {
     "data": {
      "image/png": "[encoded data removed]",
      "text/plain": [
       "<Figure size 432x288 with 1 Axes>"
      ]
     },
     "metadata": {
      "needs_background": "light"
     },
     "output_type": "display_data"
    }
   ],
   "source": [
    "plot_indices(x_ind,z,'title','x')"
   ]
  },
  {
   "cell_type": "markdown",
   "metadata": {},
   "source": [
    "#### Evolution en y"
   ]
  },
  {
   "cell_type": "code",
   "execution_count": 40,
   "metadata": {},
   "outputs": [
    {
     "data": {
      "image/png": "[encoded data removed]",
      "text/plain": [
       "<Figure size 432x288 with 1 Axes>"
      ]
     },
     "metadata": {
      "needs_background": "light"
     },
     "output_type": "display_data"
    }
   ],
   "source": [
    "plot_indices(y_ind,z,'title','y')"
   ]
  },
  {
   "cell_type": "markdown",
   "metadata": {},
   "source": [
    "## Indices des premiers max\n",
    "### Fonction"
   ]
  },
  {
   "cell_type": "code",
   "execution_count": 15,
   "metadata": {},
   "outputs": [],
   "source": [
    "def points_de_pompage(div,nmax):\n",
    "    indices=np.zeros((nmax,3))\n",
    "    maximums=np.zeros((nmax))\n",
    "    new_div=np.copy(div)\n",
    "    for i in range(nmax):\n",
    "        indices[i] = np.unravel_index(np.argmax(new_div, axis=None), div_2D.shape)\n",
    "        maximums[i]=np.max(new_div)\n",
    "        new_div=np.where(new_div==maximums[i],0,new_div)\n",
    "    return(maximums,indices)"
   ]
  },
  {
   "cell_type": "markdown",
   "metadata": {},
   "source": [
    "### Constitution des tableaux"
   ]
  },
  {
   "cell_type": "code",
   "execution_count": 16,
   "metadata": {},
   "outputs": [
    {
     "name": "stdout",
     "output_type": "stream",
     "text": [
      "[[ 0. 24. 28.]\n",
      " [ 0. 24. 27.]\n",
      " [ 0. 24. 29.]\n",
      " [ 0. 25. 28.]\n",
      " [ 3. 24. 29.]\n",
      " [ 0. 23. 28.]\n",
      " [ 0. 25. 27.]\n",
      " [ 0. 24. 30.]\n",
      " [ 3. 24. 30.]\n",
      " [ 0. 23. 27.]\n",
      " [ 0. 23. 29.]\n",
      " [ 1. 24. 29.]\n",
      " [ 1. 24. 28.]\n",
      " [ 1. 25. 28.]\n",
      " [ 3. 25. 30.]\n",
      " [ 3. 24. 28.]\n",
      " [ 0. 25. 29.]\n",
      " [ 0. 23. 30.]\n",
      " [ 2. 24. 30.]\n",
      " [ 1. 24. 30.]]\n",
      "[3.30105074 3.1249595  3.08234289 3.03280917 2.96931126 2.92738134\n",
      " 2.89681874 2.89437129 2.84765465 2.8181298  2.76367274 2.75852015\n",
      " 2.74313682 2.71487184 2.70850224 2.70477256 2.69225874 2.65851075\n",
      " 2.65646282 2.62893856]\n"
     ]
    }
   ],
   "source": [
    "nmax=20 #Choix de nmax\n",
    "maximums,indices=points_de_pompage(div_2D,nmax)\n",
    "    \n",
    "print(indices)\n",
    "print(maximums)"
   ]
  },
  {
   "cell_type": "markdown",
   "metadata": {},
   "source": [
    "## Maximum de la dérivée de la divergence\n",
    "### Fonction"
   ]
  },
  {
   "cell_type": "code",
   "execution_count": 17,
   "metadata": {},
   "outputs": [
    {
     "name": "stdout",
     "output_type": "stream",
     "text": [
      "(49, 59, 59) (49, 59, 59)\n",
      "(48, 59, 59)\n"
     ]
    }
   ],
   "source": [
    "ddiv=deriv3D(div_3D,z_3D,0)\n",
    "print(np.shape(z_3D),np.shape(div_3D))\n",
    "print(np.shape(ddiv))"
   ]
  },
  {
   "cell_type": "markdown",
   "metadata": {},
   "source": [
    "### Constitution des tableaux"
   ]
  },
  {
   "cell_type": "code",
   "execution_count": 18,
   "metadata": {},
   "outputs": [
    {
     "name": "stdout",
     "output_type": "stream",
     "text": [
      "[[47. 31. 31.]\n",
      " [11. 32. 29.]\n",
      " [46. 27. 31.]\n",
      " [11. 31. 31.]\n",
      " [11. 32. 30.]\n",
      " [47. 32. 29.]\n",
      " [36. 26. 29.]\n",
      " [36. 26. 30.]\n",
      " [46. 26. 29.]\n",
      " [23. 31. 31.]\n",
      " [44. 31. 31.]\n",
      " [24. 27. 31.]\n",
      " [47. 32. 30.]\n",
      " [43. 26. 29.]\n",
      " [33. 31. 31.]\n",
      " [36. 27. 31.]\n",
      " [43. 27. 31.]\n",
      " [46. 26. 30.]\n",
      " [43. 26. 30.]\n",
      " [47. 32. 28.]]\n",
      "[7.90859847 7.6061079  7.42482654 7.31338626 7.03611354 6.50291995\n",
      " 6.39479317 6.25396917 6.23880466 5.88716312 5.87784768 5.57199816\n",
      " 5.49710957 5.32348873 5.1592166  5.11726394 5.00836888 4.92945502\n",
      " 4.9004442  4.66463664]\n"
     ]
    }
   ],
   "source": [
    "nmax=20\n",
    "dmaximums,dindices=points_de_pompage(ddiv,nmax)\n",
    "print(dindices)\n",
    "print(dmaximums)"
   ]
  }
 ],
 "metadata": {
  "kernelspec": {
   "display_name": "Python 3",
   "language": "python",
   "name": "python3"
  },
  "language_info": {
   "codemirror_mode": {
    "name": "ipython",
    "version": 3
   },
   "file_extension": ".py",
   "mimetype": "text/x-python",
   "name": "python",
   "nbconvert_exporter": "python",
   "pygments_lexer": "ipython3",
   "version": "3.7.6"
  }
 },
 "nbformat": 4,
 "nbformat_minor": 4
}
