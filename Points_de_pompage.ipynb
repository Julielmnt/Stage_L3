{
 "cells": [
  {
   "cell_type": "code",
   "execution_count": 1,
   "metadata": {},
   "outputs": [],
   "source": [
    "#!/usr/bin/env python3\n",
    "# -*- coding: utf-8 -*-\n",
    "\n",
    "\"\"\"\n",
    "Application de la méthode de Galerkine aux données\n",
    "\"\"\"\n",
    "\n",
    "DataFolder=\"C:/Users/Julie_000/Desktop/Stage/Stage_l3\"\n",
    "#DataFolder=\"E:/Clément/Julie/Stage_L3\""
   ]
  },
  {
   "cell_type": "markdown",
   "metadata": {},
   "source": [
    "# Importations des librairies"
   ]
  },
  {
   "cell_type": "code",
   "execution_count": 2,
   "metadata": {},
   "outputs": [],
   "source": [
    "from mat4py import loadmat #pour charger des .mat\n",
    "import matplotlib\n",
    "import matplotlib.pyplot as plt # pour tracer les figures\n",
    "import os # pour modifier le dossier de travail\n",
    "import numpy as np \n",
    "from pathlib import Path # Pour rendre les Path compatibles entre Mac et Windows\n",
    "from matplotlib import rc #Les trois prochaines lignes pour que Ã§a ressemble Ã  latex\n",
    "rc('font', size=16)\n",
    "rc('text', usetex=True)\n",
    "import scipy as sc\n",
    "import matplotlib.cm as cm #colormaps\n",
    "from matplotlib.colors import Normalize #Pour l'utilisation des couleurs dans quiver\n",
    "from matplotlib.ticker import MaxNLocator #pour les courbes de niveau\n",
    "from scipy.ndimage import gaussian_filter #Filtrage gaussien\n",
    "\n",
    "from scipy.linalg import pinv as scpinv\n",
    "from numpy.linalg import pinv as nppinv\n",
    "\n",
    "import fonctions_projet_divergence as fpd#pour les données\n",
    "\n",
    "colormap2=cm.PiYG#colormap\n",
    "\n",
    "from mpl_toolkits.mplot3d import Axes3D#plot3D"
   ]
  },
  {
   "cell_type": "markdown",
   "metadata": {},
   "source": [
    "# Chargement des données\n",
    "## Choix des variables"
   ]
  },
  {
   "cell_type": "code",
   "execution_count": 3,
   "metadata": {},
   "outputs": [],
   "source": [
    "prof=15 # Choisi sur quelle profondeur d'eau travailler (5, 10 ou 15 mm)\n",
    "m=5"
   ]
  },
  {
   "cell_type": "markdown",
   "metadata": {},
   "source": [
    "## Constitution des tableaux\n",
    "### Données brutes"
   ]
  },
  {
   "cell_type": "code",
   "execution_count": 4,
   "metadata": {},
   "outputs": [
    {
     "name": "stdout",
     "output_type": "stream",
     "text": [
      "(49, 60, 60) (49, 60, 60) (49, 60, 60) (49, 60, 60) (49,)\n",
      "(49, 59)\n",
      "(49, 59, 59)\n"
     ]
    }
   ],
   "source": [
    "os.chdir(Path(DataFolder)) # se place dans le dossier où est rangée la manip\n",
    "manips=loadmat('PIVnagseul.mat') # Charge les données dans la variable manip\n",
    "\n",
    "piv=fpd.PIV(prof,manips)#données pour la profondeur\n",
    "\n",
    "P=fpd.nb_plan(prof)#nombre de plan dans la profondeur choisie\n",
    "\n",
    "u,v,x,y,z=fpd.donnees2(P,piv)\n",
    "print(np.shape(u),np.shape(v),np.shape(x),np.shape(y),np.shape(z))\n",
    "\n",
    "#tableau des z:\n",
    "z=np.reshape(z,(P,1))\n",
    "z_2D=np.hstack((z,z))\n",
    "for i in range(57):\n",
    "    z_2D=np.hstack((z_2D,z))\n",
    "print(np.shape(z_2D))\n",
    "\n",
    "z_3D=np.hstack((z_2D,z_2D))\n",
    "for i in range(57):\n",
    "    z_3D=np.hstack((z_3D,z_2D))\n",
    "z_3D=np.reshape(z_3D,(P,59,59))\n",
    "print(np.shape(z_3D))"
   ]
  },
  {
   "cell_type": "markdown",
   "metadata": {},
   "source": [
    "### Divergence"
   ]
  },
  {
   "cell_type": "code",
   "execution_count": 5,
   "metadata": {},
   "outputs": [
    {
     "name": "stdout",
     "output_type": "stream",
     "text": [
      "(49, 59, 59)\n"
     ]
    }
   ],
   "source": [
    "div_2D=np.zeros((P,59,59))\n",
    "dx=np.zeros((P,59,59))\n",
    "dy=np.zeros((P,59,59))\n",
    "\n",
    "for plan in range(P):\n",
    "    div_2D[plan],dx[plan],dy[plan]=fpd.divergence2D_gauss(u[plan],v[plan],x[plan],y[plan],1)\n",
    "    \n",
    "print(np.shape(div_2D))"
   ]
  },
  {
   "cell_type": "markdown",
   "metadata": {},
   "source": [
    "### vz"
   ]
  },
  {
   "cell_type": "code",
   "execution_count": 6,
   "metadata": {},
   "outputs": [
    {
     "name": "stdout",
     "output_type": "stream",
     "text": [
      "(49, 59, 59)\n"
     ]
    }
   ],
   "source": [
    "vz=fpd.methode_Galerkine(u,v,x,y,z,P,m,prof)\n",
    "print(np.shape(vz))"
   ]
  },
  {
   "cell_type": "markdown",
   "metadata": {},
   "source": [
    "# Test de la divergence 3D\n",
    "## Dérivation de vz"
   ]
  },
  {
   "cell_type": "code",
   "execution_count": 7,
   "metadata": {},
   "outputs": [],
   "source": [
    "def deriv3D(vz,z,axis):\n",
    "    \"\"\"Dérive un tableau 3D y par rapport à x suivant un axe donné\"\"\"\n",
    "    if vz.shape!=z.shape:\n",
    "        z_good_shape=z[:-1,:,:]\n",
    "    else:\n",
    "        z_good_shape=z\n",
    "    if axis==0:\n",
    "        dvz=(vz[1:,:,:]-vz[:-1,:,:])/(z_good_shape[1:,:,:]-z_good_shape[:-1,:,:])#Donc là le tableau est de taille (P-1,n,n)\n",
    "        return(dvz)"
   ]
  },
  {
   "cell_type": "code",
   "execution_count": 8,
   "metadata": {},
   "outputs": [
    {
     "name": "stdout",
     "output_type": "stream",
     "text": [
      "(48, 59, 59)\n"
     ]
    }
   ],
   "source": [
    "dvz=deriv3D(vz,z_3D,0)\n",
    "print(np.shape(dvz))"
   ]
  },
  {
   "cell_type": "markdown",
   "metadata": {},
   "source": [
    "## Remise des tableaux à la bonne shape"
   ]
  },
  {
   "cell_type": "code",
   "execution_count": 9,
   "metadata": {},
   "outputs": [
    {
     "name": "stdout",
     "output_type": "stream",
     "text": [
      "(48, 59, 59)\n",
      "[[[ 0.00000000e+00  0.00000000e+00  0.00000000e+00 ...  3.80007037e-02\n",
      "   -9.14931954e-03 -5.83167688e-02]\n",
      "  [ 0.00000000e+00  0.00000000e+00  0.00000000e+00 ...  4.17935962e-02\n",
      "    4.73304448e-03 -3.31817724e-02]\n",
      "  [ 0.00000000e+00  0.00000000e+00  0.00000000e+00 ...  3.46993270e-02\n",
      "    4.58389527e-04 -3.41857599e-02]\n",
      "  ...\n",
      "  [-1.85322558e-01 -1.59133239e-01 -1.03542570e-01 ...  3.06806720e-02\n",
      "    2.44753321e-02  5.87524804e-03]\n",
      "  [-2.29841701e-01 -1.66741682e-01 -9.42286966e-02 ...  3.70819335e-02\n",
      "    3.04081398e-02  6.59163326e-03]\n",
      "  [-1.15234234e-01 -1.03015144e-01 -7.46491170e-02 ...  3.61760341e-02\n",
      "    3.54085528e-02  1.37727369e-02]]\n",
      "\n",
      " [[ 0.00000000e+00  0.00000000e+00  0.00000000e+00 ...  0.00000000e+00\n",
      "    0.00000000e+00  0.00000000e+00]\n",
      "  [ 0.00000000e+00  0.00000000e+00  0.00000000e+00 ...  0.00000000e+00\n",
      "    0.00000000e+00  0.00000000e+00]\n",
      "  [ 0.00000000e+00  0.00000000e+00  0.00000000e+00 ...  0.00000000e+00\n",
      "    0.00000000e+00  0.00000000e+00]\n",
      "  ...\n",
      "  [ 5.41841319e-03  7.13892298e-03  7.25000674e-03 ...  6.05130813e-04\n",
      "   -5.26202243e-03 -1.34463113e-02]\n",
      "  [ 4.19643216e-03  6.00836907e-03  6.66325465e-03 ... -6.80161200e-04\n",
      "   -7.90052113e-03 -1.60043901e-02]\n",
      "  [-6.96071585e-04  3.61930606e-03  8.36147821e-03 ... -2.32697103e-04\n",
      "   -2.12576002e-03 -4.17572119e-03]]\n",
      "\n",
      " [[ 1.29010384e-06  3.66338041e-05  2.96190686e-04 ... -2.99068642e-02\n",
      "   -7.27678022e-03 -6.05672400e-04]\n",
      "  [ 2.76839929e-06  8.37633280e-05  8.02860127e-04 ... -2.40484342e-02\n",
      "   -5.90676279e-03 -4.92910721e-04]\n",
      "  [ 4.64325135e-06  1.28137547e-04  1.24634865e-03 ... -1.80724098e-02\n",
      "   -4.47576449e-03 -3.73994362e-04]\n",
      "  ...\n",
      "  [-4.19706211e-02 -5.45930627e-02 -5.45876173e-02 ... -1.27333375e-03\n",
      "   -2.86881644e-02 -2.03158826e-02]\n",
      "  [-1.42552801e-02 -2.22647881e-02 -4.02824733e-02 ...  6.67729816e-03\n",
      "   -2.06080912e-02 -3.80273509e-02]\n",
      "  [ 2.19505162e-02  1.16291228e-02 -3.28951001e-02 ...  3.26426989e-02\n",
      "    2.32864092e-02 -2.85608751e-02]]\n",
      "\n",
      " ...\n",
      "\n",
      " [[ 4.27531834e-04 -6.08050251e-04 -6.93032205e-04 ...  0.00000000e+00\n",
      "    0.00000000e+00  0.00000000e+00]\n",
      "  [ 8.61960961e-04 -8.95850271e-04 -1.96793073e-03 ...  0.00000000e+00\n",
      "    0.00000000e+00  0.00000000e+00]\n",
      "  [ 6.96172091e-04 -7.82632812e-04 -1.91241963e-03 ...  0.00000000e+00\n",
      "    0.00000000e+00  0.00000000e+00]\n",
      "  ...\n",
      "  [-8.16989312e-03 -6.27658349e-03 -1.73693541e-03 ...  0.00000000e+00\n",
      "    0.00000000e+00  0.00000000e+00]\n",
      "  [-1.03080527e-02 -3.81998699e-03  2.30861967e-03 ...  0.00000000e+00\n",
      "    0.00000000e+00  0.00000000e+00]\n",
      "  [-5.79476182e-03 -4.93273226e-04  1.80949570e-03 ...  0.00000000e+00\n",
      "    0.00000000e+00  0.00000000e+00]]\n",
      "\n",
      " [[ 0.00000000e+00 -4.50243365e-06 -1.38259148e-04 ...  4.71269881e-03\n",
      "    5.11227264e-04 -6.63947408e-04]\n",
      "  [ 0.00000000e+00 -4.83065746e-06 -1.48901818e-04 ...  4.04688209e-03\n",
      "    9.04753373e-04 -1.78899342e-04]\n",
      "  [ 0.00000000e+00 -5.57679016e-06 -1.72970827e-04 ...  1.95475457e-03\n",
      "    1.23737412e-03  6.65460790e-04]\n",
      "  ...\n",
      "  [-9.98711382e-04  1.30396659e-03  2.23939816e-03 ... -8.38946066e-03\n",
      "   -7.40302805e-03 -5.47790233e-03]\n",
      "  [-2.42513403e-03 -1.92519859e-03 -5.39073505e-04 ... -1.87434348e-03\n",
      "   -1.89195967e-03 -4.13960787e-03]\n",
      "  [-2.46655260e-03 -3.58043822e-03 -3.94789369e-03 ...  4.76231771e-03\n",
      "    3.11534980e-03 -2.00137745e-03]]\n",
      "\n",
      " [[-8.42269789e-05 -4.49056000e-04 -1.15096834e-03 ...  5.35970873e-04\n",
      "    4.46182667e-05  1.33300423e-06]\n",
      "  [-3.35238835e-04 -1.49506626e-03 -2.43435879e-03 ...  3.17889385e-04\n",
      "    2.48256525e-05  7.15603592e-07]\n",
      "  [-6.40105383e-04 -2.84498883e-03 -4.45562136e-03 ...  8.12128159e-05\n",
      "    5.56621458e-06  1.46888986e-07]\n",
      "  ...\n",
      "  [ 0.00000000e+00  0.00000000e+00  0.00000000e+00 ...  0.00000000e+00\n",
      "    0.00000000e+00  0.00000000e+00]\n",
      "  [ 0.00000000e+00  0.00000000e+00  0.00000000e+00 ...  0.00000000e+00\n",
      "    0.00000000e+00  0.00000000e+00]\n",
      "  [ 0.00000000e+00  0.00000000e+00  0.00000000e+00 ...  0.00000000e+00\n",
      "    0.00000000e+00  0.00000000e+00]]]\n"
     ]
    }
   ],
   "source": [
    "div_3D=div_2D[:-1,:,:]\n",
    "print(np.shape(div_3D))\n",
    "\n",
    "div_3d=fpd.somme(div_2D,dvz)\n",
    "print(div_3D)"
   ]
  },
  {
   "cell_type": "code",
   "execution_count": 10,
   "metadata": {},
   "outputs": [
    {
     "name": "stdout",
     "output_type": "stream",
     "text": [
      "False\n"
     ]
    }
   ],
   "source": [
    "#print(div_3D)\n",
    "print(np.allclose(div_3D,np.zeros(np.shape(div_3D)),rtol=1e-10,atol=1e-10))"
   ]
  },
  {
   "cell_type": "markdown",
   "metadata": {},
   "source": [
    "# Point de pompage\n",
    "## Indices des premiers max\n",
    "### Fonction"
   ]
  },
  {
   "cell_type": "code",
   "execution_count": 11,
   "metadata": {},
   "outputs": [],
   "source": [
    "def points_de_pompage(div,nmax):\n",
    "    indices=np.zeros((nmax,3))\n",
    "    maximums=np.zeros((nmax))\n",
    "    new_div=div\n",
    "    for i in range(nmax):\n",
    "        indices[i] = np.unravel_index(np.argmax(new_div, axis=None), div_2D.shape)\n",
    "        maximums[i]=np.max(new_div)\n",
    "        new_div=np.where(new_div==maximums[i],0,new_div)\n",
    "    return(maximums,indices)"
   ]
  },
  {
   "cell_type": "markdown",
   "metadata": {},
   "source": [
    "### Constitution des tableaux"
   ]
  },
  {
   "cell_type": "code",
   "execution_count": 12,
   "metadata": {},
   "outputs": [
    {
     "name": "stdout",
     "output_type": "stream",
     "text": [
      "[[ 0. 24. 28.]\n",
      " [ 0. 24. 27.]\n",
      " [ 0. 24. 29.]\n",
      " [ 0. 25. 28.]\n",
      " [ 3. 24. 29.]\n",
      " [ 0. 23. 28.]\n",
      " [ 0. 25. 27.]\n",
      " [ 0. 24. 30.]\n",
      " [ 3. 24. 30.]\n",
      " [ 0. 23. 27.]\n",
      " [ 0. 23. 29.]\n",
      " [ 1. 24. 29.]\n",
      " [ 1. 24. 28.]\n",
      " [ 1. 25. 28.]\n",
      " [ 3. 25. 30.]\n",
      " [ 3. 24. 28.]\n",
      " [ 0. 25. 29.]\n",
      " [ 0. 23. 30.]\n",
      " [ 2. 24. 30.]\n",
      " [ 1. 24. 30.]]\n",
      "[3.30105074 3.1249595  3.08234289 3.03280917 2.96931126 2.92738134\n",
      " 2.89681874 2.89437129 2.84765465 2.8181298  2.76367274 2.75852015\n",
      " 2.74313682 2.71487184 2.70850224 2.70477256 2.69225874 2.65851075\n",
      " 2.65646282 2.62893856]\n"
     ]
    }
   ],
   "source": [
    "nmax=20 #Choix de nmax\n",
    "maximums,indices=points_de_pompage(div_2D,nmax)\n",
    "    \n",
    "print(indices)\n",
    "print(maximums)"
   ]
  },
  {
   "cell_type": "markdown",
   "metadata": {},
   "source": [
    "## Maximum de la dérivée de la divergence\n",
    "### Fonction"
   ]
  },
  {
   "cell_type": "code",
   "execution_count": 13,
   "metadata": {},
   "outputs": [
    {
     "name": "stdout",
     "output_type": "stream",
     "text": [
      "(49, 59, 59) (48, 59, 59)\n",
      "(47, 59, 59)\n"
     ]
    }
   ],
   "source": [
    "ddiv=deriv3D(div_3D,z_3D,0)\n",
    "print(np.shape(z_3D),np.shape(div_3D))\n",
    "print(np.shape(ddiv))"
   ]
  },
  {
   "cell_type": "markdown",
   "metadata": {},
   "source": [
    "### Constitution des tableaux"
   ]
  },
  {
   "cell_type": "code",
   "execution_count": 14,
   "metadata": {},
   "outputs": [
    {
     "name": "stdout",
     "output_type": "stream",
     "text": [
      "[[11. 32. 29.]\n",
      " [46. 27. 31.]\n",
      " [11. 31. 31.]\n",
      " [11. 32. 30.]\n",
      " [36. 26. 29.]\n",
      " [36. 26. 30.]\n",
      " [46. 26. 29.]\n",
      " [44. 31. 31.]\n",
      " [23. 31. 31.]\n",
      " [24. 27. 31.]\n",
      " [43. 26. 29.]\n",
      " [33. 31. 31.]\n",
      " [36. 27. 31.]\n",
      " [43. 27. 31.]\n",
      " [46. 26. 30.]\n",
      " [43. 26. 30.]\n",
      " [11. 32. 28.]\n",
      " [25. 31. 31.]\n",
      " [19. 31. 31.]\n",
      " [30. 31. 31.]]\n",
      "[7.59079686 7.42010138 7.27333171 7.01598709 6.4937046  6.34018476\n",
      " 6.20517667 5.84741796 5.8414851  5.55408986 5.26190178 5.19245567\n",
      " 5.15036138 5.00348248 4.89939176 4.84528358 4.63227004 4.56508721\n",
      " 4.53854061 4.50390989]\n"
     ]
    }
   ],
   "source": [
    "nmax=20\n",
    "dmaximums,dindices=points_de_pompage(ddiv,nmax)\n",
    "print(dindices)\n",
    "print(dmaximums)"
   ]
  }
 ],
 "metadata": {
  "kernelspec": {
   "display_name": "Python 3",
   "language": "python",
   "name": "python3"
  },
  "language_info": {
   "codemirror_mode": {
    "name": "ipython",
    "version": 3
   },
   "file_extension": ".py",
   "mimetype": "text/x-python",
   "name": "python",
   "nbconvert_exporter": "python",
   "pygments_lexer": "ipython3",
   "version": "3.7.6"
  }
 },
 "nbformat": 4,
 "nbformat_minor": 4
}
