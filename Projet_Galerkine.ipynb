{
 "cells": [
  {
   "cell_type": "code",
   "execution_count": 1,
   "metadata": {},
   "outputs": [],
   "source": [
    "#!/usr/bin/env python3\n",
    "# -*- coding: utf-8 -*-\n",
    "\n",
    "\"\"\"\n",
    "Test d'une routine sur la méthode de Galerkine\n",
    "\"\"\"\n",
    "\n",
    "DataFolder=\"C:/Users/Julie_000/Desktop/Stage/Stage_l3\""
   ]
  },
  {
   "cell_type": "markdown",
   "metadata": {},
   "source": [
    "# Importations des librairies"
   ]
  },
  {
   "cell_type": "code",
   "execution_count": 2,
   "metadata": {},
   "outputs": [],
   "source": [
    "from mat4py import loadmat #pour charger des .mat\n",
    "import matplotlib.pyplot as plt # pour tracer les figures\n",
    "import os # pour modifier le dossier de travail\n",
    "import numpy as np \n",
    "from pathlib import Path # Pour rendre les Path compatibles entre Mac et Windows\n",
    "from matplotlib import rc #Les trois prochaines lignes pour que Ã§a ressemble Ã  latex\n",
    "rc('font', size=16)\n",
    "rc('text', usetex=True)\n",
    "import scipy as sc\n",
    "import matplotlib.cm as cm #colormaps\n",
    "from matplotlib.colors import Normalize #Pour l'utilisation des couleurs dans quiver\n",
    "from matplotlib.ticker import MaxNLocator #pour les courbes de niveau\n",
    "from scipy.ndimage import gaussian_filter #Filtrage gaussien\n",
    "\n",
    "from scipy.linalg import pinv as scpinv\n",
    "from numpy.linalg import pinv as nppinv\n",
    "\n",
    "import fonctions_projet_divergence as fpd#pour les données\n",
    "\n",
    "colormap2=cm.PiYG#colormap"
   ]
  },
  {
   "cell_type": "markdown",
   "metadata": {},
   "source": [
    "# Chargement des données\n",
    "## Définition des fonctions"
   ]
  },
  {
   "cell_type": "code",
   "execution_count": 3,
   "metadata": {},
   "outputs": [],
   "source": [
    "def PIV(prof,manips): \n",
    "    \"\"\"retourne les données des plans pour la bonne profondeur\"\"\"\n",
    "    if prof==5:\n",
    "        piv=manips['piv5']\n",
    "    elif prof==10:\n",
    "        piv=manips['piv10']\n",
    "    elif prof==15:\n",
    "        piv=manips['piv15']\n",
    "    else:\n",
    "        return(\"prof n'a pas une valeur acceptable\")   \n",
    "    return(piv)\n",
    "\n",
    "def nb_plan(prof):\n",
    "    \"Détermine le nombre de plan pour une profondeur donnée\"\n",
    "    if prof==5:\n",
    "        return(16)\n",
    "    if prof==10:\n",
    "        return(32)\n",
    "    if prof==15:\n",
    "        return(49)\n",
    "    else:\n",
    "        return(\"prof n'a pas une valeur acceptable\")\n",
    "    \n",
    "def donnees(n,piv):\n",
    "    \"Charge les données pour la profondeur donnée\"\n",
    "    u=np.zeros((n,60,60))\n",
    "    v=np.zeros((n,60,60))\n",
    "    x=np.zeros((n,60,60))\n",
    "    y=np.zeros((n,60,60))\n",
    "    z=np.zeros((n))\n",
    "\n",
    "    for plan in range(n): \n",
    "            u[plan]=np.array(piv[plan]['u'])\n",
    "            v[plan]=np.array(piv[plan]['v'])\n",
    "            x[plan]=np.array(piv[plan]['x'])\n",
    "            y[plan]=np.array(piv[plan]['y'])\n",
    "            z[plan]=np.array(piv[plan]['prof'])\n",
    "    return(u,v,x,y,z)"
   ]
  },
  {
   "cell_type": "markdown",
   "metadata": {},
   "source": [
    "## Choix de la profondeur de travail"
   ]
  },
  {
   "cell_type": "code",
   "execution_count": 4,
   "metadata": {},
   "outputs": [],
   "source": [
    "prof=5 # Choisi sur quelle profondeur d'eau travailler (5, 10 ou 15 mm)"
   ]
  },
  {
   "cell_type": "markdown",
   "metadata": {},
   "source": [
    "## Chargement des données"
   ]
  },
  {
   "cell_type": "code",
   "execution_count": 16,
   "metadata": {},
   "outputs": [
    {
     "name": "stdout",
     "output_type": "stream",
     "text": [
      "(16, 60, 60) (16, 60, 60) (16, 60, 60) (16, 60, 60) (16,)\n"
     ]
    }
   ],
   "source": [
    "os.chdir(Path(DataFolder)) # se place dans le dossier où est rangée la manip\n",
    "manips=loadmat('PIVnagseul.mat') # Charge les données dans la variable manip\n",
    "\n",
    "piv=PIV(prof,manips)#données pour la profondeur\n",
    "\n",
    "P=nb_plan(prof)#nombre de plan dans la profondeur choisie\n",
    "\n",
    "u,v,x,y,z=donnees(P,piv)\n",
    "print(np.shape(u),np.shape(v),np.shape(x),np.shape(y),np.shape(z))"
   ]
  },
  {
   "cell_type": "markdown",
   "metadata": {},
   "source": [
    "# Application du programme de divergence bidimensionnelle\n",
    "## Fonction de plot"
   ]
  },
  {
   "cell_type": "code",
   "execution_count": 6,
   "metadata": {},
   "outputs": [],
   "source": [
    "def plot_divergence(div,dx,dy,title):\n",
    "    \"Tracé des divergences\"\n",
    "    #norme\n",
    "    vmax,vmin=np.max(div),np.min(div)\n",
    "    norm=Normalize(vmin=vmin, vmax=vmax)\n",
    "    levels = MaxNLocator(nbins=25).tick_values(vmin,vmax)\n",
    "    \n",
    "    fig, l0 = plt.subplots(num=title)\n",
    "    im0 = l0.contourf(dx,dy,div,levels=levels, cmap=colormap2,norm=norm)\n",
    "    fig.colorbar(im0,ax=l0)\n",
    "   \n",
    "    fig.tight_layout(pad = 3)\n",
    "    fig.suptitle(title,fontsize=20)\n",
    "    plt.show()"
   ]
  },
  {
   "cell_type": "markdown",
   "metadata": {},
   "source": [
    "## Constitution du tableau de divergence bidimensionnelle"
   ]
  },
  {
   "cell_type": "code",
   "execution_count": 39,
   "metadata": {},
   "outputs": [
    {
     "name": "stdout",
     "output_type": "stream",
     "text": [
      "(16, 59, 59)\n"
     ]
    }
   ],
   "source": [
    "div_2D=np.zeros((P,59,59))\n",
    "dx=np.zeros((P,59,59))\n",
    "dy=np.zeros((P,59,59))\n",
    "\n",
    "for plan in range(P):\n",
    "    div_2D[plan],dx[plan],dy[plan]=fpd.divergence2D_gauss(u[plan],v[plan],x[plan],y[plan],1)\n",
    "print(np.shape(div_2D))"
   ]
  },
  {
   "cell_type": "markdown",
   "metadata": {},
   "source": [
    "## Plot"
   ]
  },
  {
   "cell_type": "code",
   "execution_count": 8,
   "metadata": {},
   "outputs": [],
   "source": [
    "#%matplotlib notebook\n",
    "#plan=2\n",
    "#plot_divergence(div_2D[plan],dx[plan],dy[plan],\"Tracé de la divergence\")"
   ]
  },
  {
   "cell_type": "markdown",
   "metadata": {},
   "source": [
    "# Application de la méthode de Galerkine\n",
    "## Choix du nombre de mode"
   ]
  },
  {
   "cell_type": "code",
   "execution_count": 11,
   "metadata": {},
   "outputs": [],
   "source": [
    "m=5"
   ]
  },
  {
   "cell_type": "markdown",
   "metadata": {},
   "source": [
    "## Construction des différents tableaux\n",
    "### Tableau des z"
   ]
  },
  {
   "cell_type": "code",
   "execution_count": 19,
   "metadata": {},
   "outputs": [
    {
     "name": "stdout",
     "output_type": "stream",
     "text": [
      "[0.5 0.8 1.1 1.4 1.7 2.  2.3 2.6 2.9 3.2 3.5 3.8 4.1 4.4 4.7 5. ]\n",
      "(16,)\n"
     ]
    }
   ],
   "source": [
    "#z=np.reshape(z,(P,1))\n",
    "print(z)\n",
    "print(np.shape(z))"
   ]
  },
  {
   "cell_type": "markdown",
   "metadata": {},
   "source": [
    "### Matrice M"
   ]
  },
  {
   "cell_type": "code",
   "execution_count": 27,
   "metadata": {},
   "outputs": [
    {
     "name": "stdout",
     "output_type": "stream",
     "text": [
      "(5, 16)\n",
      "118\n"
     ]
    }
   ],
   "source": [
    "h=prof\n",
    "M=np.transpose(np.array([n*np.pi/h*np.cos(n*np.pi/h*z) for n in range(1,m+1)]))\n",
    "\n",
    "pinv=nppinv(M)\n",
    "print(np.shape(pinv))"
   ]
  },
  {
   "cell_type": "markdown",
   "metadata": {},
   "source": [
    "# Résolution\n",
    "## Coefficients"
   ]
  },
  {
   "cell_type": "code",
   "execution_count": 46,
   "metadata": {},
   "outputs": [],
   "source": [
    "div_2D=np.reshape(div_2D,(P,59*59)) #Est-ce que ça marche vraiment ?? Sinon le produit matriciel ne fonctionne pas.."
   ]
  },
  {
   "cell_type": "code",
   "execution_count": 62,
   "metadata": {},
   "outputs": [
    {
     "name": "stdout",
     "output_type": "stream",
     "text": [
      "(5, 3481)\n"
     ]
    }
   ],
   "source": [
    "a=np.matmul(pinv,div_2D)\n",
    "#a=np.reshape(a,(5,59,59))\n",
    "print(np.shape(a))"
   ]
  },
  {
   "cell_type": "markdown",
   "metadata": {},
   "source": [
    "## Détermination de v_z"
   ]
  },
  {
   "cell_type": "code",
   "execution_count": 67,
   "metadata": {},
   "outputs": [
    {
     "name": "stdout",
     "output_type": "stream",
     "text": [
      "(16, 5)\n",
      "(16, 59, 59)\n"
     ]
    }
   ],
   "source": [
    "sin=np.transpose(np.array([np.sin(m*np.pi*z/h) for m in range(1,m+1)]))\n",
    "print(np.shape(sin))\n",
    "vz=np.matmul(sin,a)\n",
    "vz=np.reshape(vz,(P,59,59))\n",
    "print(np.shape(vz))"
   ]
  },
  {
   "cell_type": "markdown",
   "metadata": {},
   "source": [
    "# Fonction Galerkine"
   ]
  },
  {
   "cell_type": "code",
   "execution_count": 69,
   "metadata": {},
   "outputs": [],
   "source": [
    "def methode_Galerkine(u,v,x,y,z,P,m,h):\n",
    "    \"Applique la méthode Galerkine\"\n",
    "    #divergence bidimensionelle\n",
    "    div_2D=np.zeros((P,59,59))\n",
    "    dx=np.zeros((P,59,59))\n",
    "    dy=np.zeros((P,59,59))\n",
    "    for plan in range(P):\n",
    "        div_2D[plan],dx[plan],dy[plan]=fpd.divergence2D_gauss(u[plan],v[plan],x[plan],y[plan],1)\n",
    "    #Matrice M\n",
    "    M=nppinv(np.transpose(np.array([n*np.pi/h*np.cos(n*np.pi/h*z) for n in range(1,m+1)])))\n",
    "    #Calcul des coefficients\n",
    "    div_2D=np.reshape(div_2D,(P,59*59))\n",
    "    a=np.matmul(pinv,div_2D)\n",
    "    #calcul de vz\n",
    "    sin=np.transpose(np.array([np.sin(m*np.pi*z/h) for m in range(1,m+1)]))\n",
    "    vz=np.matmul(sin,a)\n",
    "    vz=np.reshape(vz,(P,59,59))\n",
    "    return(vz)"
   ]
  },
  {
   "cell_type": "markdown",
   "metadata": {},
   "source": []
  }
 ],
 "metadata": {
  "kernelspec": {
   "display_name": "Python 3",
   "language": "python",
   "name": "python3"
  },
  "language_info": {
   "codemirror_mode": {
    "name": "ipython",
    "version": 3
   },
   "file_extension": ".py",
   "mimetype": "text/x-python",
   "name": "python",
   "nbconvert_exporter": "python",
   "pygments_lexer": "ipython3",
   "version": "3.7.6"
  }
 },
 "nbformat": 4,
 "nbformat_minor": 4
}
